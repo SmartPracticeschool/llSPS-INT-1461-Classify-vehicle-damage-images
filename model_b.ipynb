{
 "cells": [
  {
   "cell_type": "code",
   "execution_count": 1,
   "metadata": {},
   "outputs": [
    {
     "name": "stderr",
     "output_type": "stream",
     "text": [
      "Using TensorFlow backend.\n",
      "C:\\Users\\Srikar Sripada\\anaconda3\\anaconda new\\lib\\site-packages\\tensorflow\\python\\framework\\dtypes.py:516: FutureWarning: Passing (type, 1) or '1type' as a synonym of type is deprecated; in a future version of numpy, it will be understood as (type, (1,)) / '(1,)type'.\n",
      "  _np_qint8 = np.dtype([(\"qint8\", np.int8, 1)])\n",
      "C:\\Users\\Srikar Sripada\\anaconda3\\anaconda new\\lib\\site-packages\\tensorflow\\python\\framework\\dtypes.py:517: FutureWarning: Passing (type, 1) or '1type' as a synonym of type is deprecated; in a future version of numpy, it will be understood as (type, (1,)) / '(1,)type'.\n",
      "  _np_quint8 = np.dtype([(\"quint8\", np.uint8, 1)])\n",
      "C:\\Users\\Srikar Sripada\\anaconda3\\anaconda new\\lib\\site-packages\\tensorflow\\python\\framework\\dtypes.py:518: FutureWarning: Passing (type, 1) or '1type' as a synonym of type is deprecated; in a future version of numpy, it will be understood as (type, (1,)) / '(1,)type'.\n",
      "  _np_qint16 = np.dtype([(\"qint16\", np.int16, 1)])\n",
      "C:\\Users\\Srikar Sripada\\anaconda3\\anaconda new\\lib\\site-packages\\tensorflow\\python\\framework\\dtypes.py:519: FutureWarning: Passing (type, 1) or '1type' as a synonym of type is deprecated; in a future version of numpy, it will be understood as (type, (1,)) / '(1,)type'.\n",
      "  _np_quint16 = np.dtype([(\"quint16\", np.uint16, 1)])\n",
      "C:\\Users\\Srikar Sripada\\anaconda3\\anaconda new\\lib\\site-packages\\tensorflow\\python\\framework\\dtypes.py:520: FutureWarning: Passing (type, 1) or '1type' as a synonym of type is deprecated; in a future version of numpy, it will be understood as (type, (1,)) / '(1,)type'.\n",
      "  _np_qint32 = np.dtype([(\"qint32\", np.int32, 1)])\n",
      "C:\\Users\\Srikar Sripada\\anaconda3\\anaconda new\\lib\\site-packages\\tensorflow\\python\\framework\\dtypes.py:525: FutureWarning: Passing (type, 1) or '1type' as a synonym of type is deprecated; in a future version of numpy, it will be understood as (type, (1,)) / '(1,)type'.\n",
      "  np_resource = np.dtype([(\"resource\", np.ubyte, 1)])\n",
      "C:\\Users\\Srikar Sripada\\anaconda3\\anaconda new\\lib\\site-packages\\tensorboard\\compat\\tensorflow_stub\\dtypes.py:541: FutureWarning: Passing (type, 1) or '1type' as a synonym of type is deprecated; in a future version of numpy, it will be understood as (type, (1,)) / '(1,)type'.\n",
      "  _np_qint8 = np.dtype([(\"qint8\", np.int8, 1)])\n",
      "C:\\Users\\Srikar Sripada\\anaconda3\\anaconda new\\lib\\site-packages\\tensorboard\\compat\\tensorflow_stub\\dtypes.py:542: FutureWarning: Passing (type, 1) or '1type' as a synonym of type is deprecated; in a future version of numpy, it will be understood as (type, (1,)) / '(1,)type'.\n",
      "  _np_quint8 = np.dtype([(\"quint8\", np.uint8, 1)])\n",
      "C:\\Users\\Srikar Sripada\\anaconda3\\anaconda new\\lib\\site-packages\\tensorboard\\compat\\tensorflow_stub\\dtypes.py:543: FutureWarning: Passing (type, 1) or '1type' as a synonym of type is deprecated; in a future version of numpy, it will be understood as (type, (1,)) / '(1,)type'.\n",
      "  _np_qint16 = np.dtype([(\"qint16\", np.int16, 1)])\n",
      "C:\\Users\\Srikar Sripada\\anaconda3\\anaconda new\\lib\\site-packages\\tensorboard\\compat\\tensorflow_stub\\dtypes.py:544: FutureWarning: Passing (type, 1) or '1type' as a synonym of type is deprecated; in a future version of numpy, it will be understood as (type, (1,)) / '(1,)type'.\n",
      "  _np_quint16 = np.dtype([(\"quint16\", np.uint16, 1)])\n",
      "C:\\Users\\Srikar Sripada\\anaconda3\\anaconda new\\lib\\site-packages\\tensorboard\\compat\\tensorflow_stub\\dtypes.py:545: FutureWarning: Passing (type, 1) or '1type' as a synonym of type is deprecated; in a future version of numpy, it will be understood as (type, (1,)) / '(1,)type'.\n",
      "  _np_qint32 = np.dtype([(\"qint32\", np.int32, 1)])\n",
      "C:\\Users\\Srikar Sripada\\anaconda3\\anaconda new\\lib\\site-packages\\tensorboard\\compat\\tensorflow_stub\\dtypes.py:550: FutureWarning: Passing (type, 1) or '1type' as a synonym of type is deprecated; in a future version of numpy, it will be understood as (type, (1,)) / '(1,)type'.\n",
      "  np_resource = np.dtype([(\"resource\", np.ubyte, 1)])\n"
     ]
    }
   ],
   "source": [
    "# importing libraries\n",
    "from keras.models import Sequential\n",
    "from keras.layers import Dense\n",
    "from keras.layers import Convolution2D\n",
    "from keras.layers import MaxPooling2D\n",
    "from keras.layers import Flatten"
   ]
  },
  {
   "cell_type": "code",
   "execution_count": 2,
   "metadata": {},
   "outputs": [],
   "source": [
    "# Initializing the model\n",
    "model = Sequential()"
   ]
  },
  {
   "cell_type": "code",
   "execution_count": 3,
   "metadata": {},
   "outputs": [],
   "source": [
    "# convolution layer1\n",
    "model.add(Convolution2D(32,(3,3),input_shape = (64,64,3), activation = 'relu'))"
   ]
  },
  {
   "cell_type": "code",
   "execution_count": 4,
   "metadata": {},
   "outputs": [
    {
     "name": "stdout",
     "output_type": "stream",
     "text": [
      "WARNING:tensorflow:From C:\\Users\\Srikar Sripada\\anaconda3\\anaconda new\\lib\\site-packages\\keras\\backend\\tensorflow_backend.py:4070: The name tf.nn.max_pool is deprecated. Please use tf.nn.max_pool2d instead.\n",
      "\n"
     ]
    }
   ],
   "source": [
    "# Max Pooling Layer\n",
    "model.add(MaxPooling2D(pool_size = (2,2)))"
   ]
  },
  {
   "cell_type": "code",
   "execution_count": 5,
   "metadata": {},
   "outputs": [],
   "source": [
    "# flattening layer\n",
    "model.add(Flatten())"
   ]
  },
  {
   "cell_type": "code",
   "execution_count": 6,
   "metadata": {},
   "outputs": [
    {
     "name": "stderr",
     "output_type": "stream",
     "text": [
      "C:\\Users\\Srikar Sripada\\anaconda3\\anaconda new\\lib\\site-packages\\ipykernel_launcher.py:2: UserWarning: Update your `Dense` call to the Keras 2 API: `Dense(activation=\"relu\", units=128, kernel_initializer=\"uniform\")`\n",
      "  \n"
     ]
    }
   ],
   "source": [
    "# hidden layer 1\n",
    "model.add(Dense(output_dim = 128, init = 'uniform', activation = 'relu'))"
   ]
  },
  {
   "cell_type": "code",
   "execution_count": 7,
   "metadata": {},
   "outputs": [
    {
     "name": "stderr",
     "output_type": "stream",
     "text": [
      "C:\\Users\\Srikar Sripada\\anaconda3\\anaconda new\\lib\\site-packages\\ipykernel_launcher.py:2: UserWarning: Update your `Dense` call to the Keras 2 API: `Dense(activation=\"relu\", units=128, kernel_initializer=\"uniform\")`\n",
      "  \n"
     ]
    }
   ],
   "source": [
    "# hidden layer 2\n",
    "model.add(Dense(output_dim = 128, init = 'uniform', activation = 'relu'))"
   ]
  },
  {
   "cell_type": "code",
   "execution_count": 8,
   "metadata": {},
   "outputs": [
    {
     "name": "stderr",
     "output_type": "stream",
     "text": [
      "C:\\Users\\Srikar Sripada\\anaconda3\\anaconda new\\lib\\site-packages\\ipykernel_launcher.py:2: UserWarning: Update your `Dense` call to the Keras 2 API: `Dense(activation=\"relu\", units=64, kernel_initializer=\"uniform\")`\n",
      "  \n"
     ]
    }
   ],
   "source": [
    "# hidden layer 3\n",
    "model.add(Dense(output_dim = 64, init = 'uniform', activation = 'relu'))"
   ]
  },
  {
   "cell_type": "code",
   "execution_count": 9,
   "metadata": {},
   "outputs": [
    {
     "name": "stderr",
     "output_type": "stream",
     "text": [
      "C:\\Users\\Srikar Sripada\\anaconda3\\anaconda new\\lib\\site-packages\\ipykernel_launcher.py:2: UserWarning: Update your `Dense` call to the Keras 2 API: `Dense(activation=\"softmax\", units=7, kernel_initializer=\"uniform\")`\n",
      "  \n"
     ]
    }
   ],
   "source": [
    "# o/p layer\n",
    "model.add(Dense(output_dim = 7, init = 'uniform', activation = 'softmax'))"
   ]
  },
  {
   "cell_type": "code",
   "execution_count": 10,
   "metadata": {},
   "outputs": [],
   "source": [
    "from keras.preprocessing.image import ImageDataGenerator"
   ]
  },
  {
   "cell_type": "code",
   "execution_count": 15,
   "metadata": {},
   "outputs": [],
   "source": [
    "train_datagen = ImageDataGenerator(rescale = 1./255, shear_range = 0.2, zoom_range = 0.2, height_shift_range = 0.2, width_shift_range = 0.2, horizontal_flip = True, vertical_flip = True)\n",
    "test_datagen = ImageDataGenerator(rescale = 1)"
   ]
  },
  {
   "cell_type": "code",
   "execution_count": 16,
   "metadata": {},
   "outputs": [
    {
     "name": "stdout",
     "output_type": "stream",
     "text": [
      "Found 991 images belonging to 7 classes.\n"
     ]
    }
   ],
   "source": [
    "x_train=train_datagen.flow_from_directory(r'C:\\Users\\Srikar Sripada\\Desktop\\final dataset\\dataset\\train_set',target_size=(64,64),batch_size=32,class_mode='categorical')"
   ]
  },
  {
   "cell_type": "code",
   "execution_count": 17,
   "metadata": {},
   "outputs": [
    {
     "name": "stdout",
     "output_type": "stream",
     "text": [
      "Found 291 images belonging to 7 classes.\n"
     ]
    }
   ],
   "source": [
    "x_test=test_datagen.flow_from_directory(r'C:\\Users\\Srikar Sripada\\Desktop\\final dataset\\dataset\\test_set',target_size=(64,64),batch_size=32,class_mode='categorical')"
   ]
  },
  {
   "cell_type": "code",
   "execution_count": 18,
   "metadata": {},
   "outputs": [
    {
     "data": {
      "text/plain": [
       "{'bumper_dent': 0,\n",
       " 'bumper_scratch': 1,\n",
       " 'damaged_car_images': 2,\n",
       " 'door_scratch': 3,\n",
       " 'glass_shatter': 4,\n",
       " 'head_lamp': 5,\n",
       " 'non_damaged_car_images': 6}"
      ]
     },
     "execution_count": 18,
     "metadata": {},
     "output_type": "execute_result"
    }
   ],
   "source": [
    "x_train.class_indices"
   ]
  },
  {
   "cell_type": "code",
   "execution_count": 19,
   "metadata": {},
   "outputs": [],
   "source": [
    "model.compile(loss = 'categorical_crossentropy', optimizer = 'adam', metrics = ['accuracy'])"
   ]
  },
  {
   "cell_type": "code",
   "execution_count": 21,
   "metadata": {},
   "outputs": [
    {
     "name": "stdout",
     "output_type": "stream",
     "text": [
      "Epoch 1/25\n",
      "31/31 [==============================] - 7s 220ms/step - loss: 1.5355 - accuracy: 0.5066 - val_loss: 201.8274 - val_accuracy: 0.5326\n",
      "Epoch 2/25\n",
      "31/31 [==============================] - 7s 211ms/step - loss: 1.4831 - accuracy: 0.5045 - val_loss: 0.0000e+00 - val_accuracy: 0.5326\n",
      "Epoch 3/25\n",
      "31/31 [==============================] - 7s 211ms/step - loss: 1.4485 - accuracy: 0.5116 - val_loss: 20.9327 - val_accuracy: 0.4055\n",
      "Epoch 4/25\n",
      "31/31 [==============================] - 7s 211ms/step - loss: 1.4146 - accuracy: 0.5116 - val_loss: 90.5696 - val_accuracy: 0.5223\n",
      "Epoch 5/25\n",
      "31/31 [==============================] - 7s 218ms/step - loss: 1.4093 - accuracy: 0.5187 - val_loss: 224.1015 - val_accuracy: 0.5395\n",
      "Epoch 6/25\n",
      "31/31 [==============================] - 7s 213ms/step - loss: 1.3676 - accuracy: 0.5197 - val_loss: 168.8307 - val_accuracy: 0.4124\n",
      "Epoch 7/25\n",
      "31/31 [==============================] - 7s 214ms/step - loss: 1.3787 - accuracy: 0.5136 - val_loss: 0.0000e+00 - val_accuracy: 0.3196\n",
      "Epoch 8/25\n",
      "31/31 [==============================] - 7s 220ms/step - loss: 1.3502 - accuracy: 0.5318 - val_loss: 421.1692 - val_accuracy: 0.5017\n",
      "Epoch 9/25\n",
      "31/31 [==============================] - 7s 221ms/step - loss: 1.3749 - accuracy: 0.5197 - val_loss: 227.1166 - val_accuracy: 0.4158\n",
      "Epoch 10/25\n",
      "31/31 [==============================] - 7s 234ms/step - loss: 1.3497 - accuracy: 0.5277 - val_loss: 161.8267 - val_accuracy: 0.3402\n",
      "Epoch 11/25\n",
      "31/31 [==============================] - 7s 223ms/step - loss: 1.3029 - accuracy: 0.5439 - val_loss: 301.0155 - val_accuracy: 0.4639\n",
      "Epoch 12/25\n",
      "31/31 [==============================] - 7s 236ms/step - loss: 1.2949 - accuracy: 0.5328 - val_loss: 83.8151 - val_accuracy: 0.3986\n",
      "Epoch 13/25\n",
      "31/31 [==============================] - 7s 225ms/step - loss: 1.3357 - accuracy: 0.5267 - val_loss: 45.7106 - val_accuracy: 0.4605\n",
      "Epoch 14/25\n",
      "31/31 [==============================] - 7s 235ms/step - loss: 1.3308 - accuracy: 0.5267 - val_loss: 418.2079 - val_accuracy: 0.4399\n",
      "Epoch 15/25\n",
      "31/31 [==============================] - 9s 296ms/step - loss: 1.3047 - accuracy: 0.5288 - val_loss: 321.8891 - val_accuracy: 0.2955\n",
      "Epoch 16/25\n",
      "31/31 [==============================] - 7s 239ms/step - loss: 1.2987 - accuracy: 0.5489 - val_loss: 360.4193 - val_accuracy: 0.2818\n",
      "Epoch 17/25\n",
      "31/31 [==============================] - 6s 206ms/step - loss: 1.2718 - accuracy: 0.5439 - val_loss: 181.5937 - val_accuracy: 0.2990\n",
      "Epoch 18/25\n",
      "31/31 [==============================] - 6s 206ms/step - loss: 1.2859 - accuracy: 0.5439 - val_loss: 67.7889 - val_accuracy: 0.2577\n",
      "Epoch 19/25\n",
      "31/31 [==============================] - 6s 204ms/step - loss: 1.2985 - accuracy: 0.5530 - val_loss: 542.1004 - val_accuracy: 0.2818\n",
      "Epoch 20/25\n",
      "31/31 [==============================] - 7s 223ms/step - loss: 1.2947 - accuracy: 0.5308 - val_loss: 224.4907 - val_accuracy: 0.2990\n",
      "Epoch 21/25\n",
      "31/31 [==============================] - 7s 222ms/step - loss: 1.2448 - accuracy: 0.5510 - val_loss: 600.5933 - val_accuracy: 0.2509\n",
      "Epoch 22/25\n",
      "31/31 [==============================] - 8s 267ms/step - loss: 1.2573 - accuracy: 0.5580 - val_loss: 179.3632 - val_accuracy: 0.1649\n",
      "Epoch 23/25\n",
      "31/31 [==============================] - 7s 213ms/step - loss: 1.2608 - accuracy: 0.5590 - val_loss: 328.4674 - val_accuracy: 0.2096\n",
      "Epoch 24/25\n",
      "31/31 [==============================] - 7s 220ms/step - loss: 1.2414 - accuracy: 0.5570 - val_loss: 445.0887 - val_accuracy: 0.2680\n",
      "Epoch 25/25\n",
      "31/31 [==============================] - 6s 208ms/step - loss: 1.2161 - accuracy: 0.5661 - val_loss: 0.0000e+00 - val_accuracy: 0.3540\n"
     ]
    },
    {
     "data": {
      "text/plain": [
       "<keras.callbacks.callbacks.History at 0x139bf1e6808>"
      ]
     },
     "execution_count": 21,
     "metadata": {},
     "output_type": "execute_result"
    }
   ],
   "source": [
    "model.fit_generator(x_train, steps_per_epoch =31, epochs = 25, validation_data = x_test, validation_steps = 10)"
   ]
  },
  {
   "cell_type": "code",
   "execution_count": 22,
   "metadata": {},
   "outputs": [],
   "source": [
    "model.save(\"car_damage_detection.h5\")"
   ]
  },
  {
   "cell_type": "code",
   "execution_count": null,
   "metadata": {},
   "outputs": [],
   "source": []
  }
 ],
 "metadata": {
  "kernelspec": {
   "display_name": "Python 3",
   "language": "python",
   "name": "python3"
  },
  "language_info": {
   "codemirror_mode": {
    "name": "ipython",
    "version": 3
   },
   "file_extension": ".py",
   "mimetype": "text/x-python",
   "name": "python",
   "nbconvert_exporter": "python",
   "pygments_lexer": "ipython3",
   "version": "3.7.6"
  }
 },
 "nbformat": 4,
 "nbformat_minor": 4
}
